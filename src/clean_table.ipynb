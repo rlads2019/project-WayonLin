{
 "cells": [
  {
   "cell_type": "code",
   "execution_count": 1,
   "metadata": {},
   "outputs": [],
   "source": [
    "import pandas as pd\n",
    "import numpy as np\n",
    "import matplotlib.pyplot as plt"
   ]
  },
  {
   "cell_type": "code",
   "execution_count": 2,
   "metadata": {},
   "outputs": [],
   "source": [
    "path = r'C:\\Users\\Una\\Desktop\\Una\\Courses\\108-1\\R\\project\\data\\all.xlsx'"
   ]
  },
  {
   "cell_type": "code",
   "execution_count": 3,
   "metadata": {},
   "outputs": [],
   "source": [
    "df = pd.read_excel(path)"
   ]
  },
  {
   "cell_type": "code",
   "execution_count": 4,
   "metadata": {},
   "outputs": [
    {
     "name": "stdout",
     "output_type": "stream",
     "text": [
      "      dp99    99   dp100   100   dp101   101   dp102   102   dp103   103  \\\n",
      "0   1010.0  44.0  1010.0   6.0  1010.0 -26.0  1010.0  -3.0  1010.0  -8.0   \n",
      "1   1011.0   NaN  1011.0   0.0  1011.0   0.0  1011.0   0.0  1011.0   0.0   \n",
      "2   1020.0   0.0  1020.0   0.0  1020.0   0.0  1020.0   0.0  1020.0   0.0   \n",
      "3     102A  29.0    102A -14.0    102A  11.0    102A -20.0    102A -19.0   \n",
      "4     102B  11.0    102B  -7.0    102B  19.0    102B -45.0    102B -26.0   \n",
      "..     ...   ...     ...   ...     ...   ...     ...   ...     ...   ...   \n",
      "59    A012   0.0    A012   0.0    A011   0.0    A011   0.0    A011   0.0   \n",
      "60    A013   0.0    A013   0.0    A012   0.0    A012   0.0    A012   0.0   \n",
      "61    B010  21.0    B010 -19.0    A013   0.0    A013   0.0    A013   0.0   \n",
      "62    B020  18.0    B020 -12.0    B010 -13.0    B010  -2.0    B010   7.0   \n",
      "63     NaN   NaN     NaN   NaN    B020  -8.0    B020   0.0    B020  -3.0   \n",
      "\n",
      "     dp104   104   dp105   105   dp106   106   dp107   107  \n",
      "0   1010.0 -15.0  1010.0  -1.0  1010.0 -14.0  1010.0  17.0  \n",
      "1   1011.0   0.0  1011.0   0.0  1011.0   0.0  1011.0   3.0  \n",
      "2   1020.0   0.0  1020.0   0.0  1020.0   0.0  1020.0   0.0  \n",
      "3     102A  -5.0    102A  -9.0  1030.0 -14.0  1030.0  16.0  \n",
      "4     102B -11.0    102B -19.0  1040.0   1.0  1040.0   4.0  \n",
      "..     ...   ...     ...   ...     ...   ...     ...   ...  \n",
      "59    A011   0.0    A011   0.0    A012   0.0    A011   0.0  \n",
      "60    A012   0.0    A012   0.0    A013   0.0    A012   0.0  \n",
      "61    A013   0.0    A013   0.0    B010   3.0    A013   0.0  \n",
      "62    B010 -12.0    B010   1.0    B020  -9.0    B010  -2.0  \n",
      "63    B020   8.0    B020  -3.0     NaN   NaN    B020 -13.0  \n",
      "\n",
      "[64 rows x 18 columns]\n"
     ]
    }
   ],
   "source": [
    "for year in range(99,108):\n",
    "    if (year==99):\n",
    "        df1 = df[df.年度 == year]\n",
    "        df1.index = range(len(df1))\n",
    "        df2 = df[df.年度 == year+1]\n",
    "        df2.index = range(len(df2))\n",
    "\n",
    "\n",
    "        diff = np.array([])\n",
    "        number = np.array([])\n",
    "\n",
    "        for i in range(len(df1)):\n",
    "            for j in range(len(df2)):\n",
    "                if(df1.代碼[i] == df2.代碼[j]):\n",
    "                    number = np.append(number,df1.代碼[i])\n",
    "                    diff = np.append(diff, df2.輔系轉入申請[j] - df1.輔系轉入申請[i])\n",
    "                    break;\n",
    "            \n",
    "        temp1 =  pd.DataFrame(diff,columns = [str(year)])\n",
    "        temp2 = pd.DataFrame(number,columns = ['dp99'])\n",
    "        result = pd.concat([temp2,temp1],axis=1)\n",
    "    else:\n",
    "        df1 = df[df.年度 == year]\n",
    "        df1.index = range(len(df1))\n",
    "        df2 = df[df.年度 == year+1]\n",
    "        df2.index = range(len(df2))\n",
    "\n",
    "\n",
    "        diff = np.array([])\n",
    "        number = np.array([])\n",
    "\n",
    "        for i in range(len(df1)):\n",
    "            for j in range(len(df2)):\n",
    "                if(df1.代碼[i] == df2.代碼[j]):\n",
    "                    number = np.append(number,df1.代碼[i])\n",
    "                    diff = np.append(diff, df2.輔系轉入申請[j] - df1.輔系轉入申請[i])\n",
    "                    break;\n",
    "            \n",
    "        temp1 =  pd.DataFrame(diff,columns = [str(year)])\n",
    "        temp2 = pd.DataFrame(number,columns = [('dp'+str(year))])\n",
    "        result = pd.concat([result,temp2,temp1],axis=1)\n",
    "print(result)"
   ]
  },
  {
   "cell_type": "code",
   "execution_count": 5,
   "metadata": {},
   "outputs": [],
   "source": [
    "result.to_csv(r'C:\\Users\\Una\\Desktop\\Una\\Courses\\108-1\\R\\project\\data\\minor_in_apply_diff_3.csv')"
   ]
  }
 ],
 "metadata": {
  "kernelspec": {
   "display_name": "Python 3",
   "language": "python",
   "name": "python3"
  },
  "language_info": {
   "codemirror_mode": {
    "name": "ipython",
    "version": 3
   },
   "file_extension": ".py",
   "mimetype": "text/x-python",
   "name": "python",
   "nbconvert_exporter": "python",
   "pygments_lexer": "ipython3",
   "version": "3.7.4"
  }
 },
 "nbformat": 4,
 "nbformat_minor": 2
}
